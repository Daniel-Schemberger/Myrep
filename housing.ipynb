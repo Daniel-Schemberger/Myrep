{
 "cells": [
  {
   "cell_type": "markdown",
   "metadata": {},
   "source": [
    "Bibliotecas"
   ]
  },
  {
   "cell_type": "code",
   "execution_count": 2,
   "metadata": {},
   "outputs": [],
   "source": [
    "from bs4 import BeautifulSoup\n",
    "import requests\n",
    "from csv import writer"
   ]
  },
  {
   "cell_type": "markdown",
   "metadata": {},
   "source": [
    "Realizando o request"
   ]
  },
  {
   "cell_type": "code",
   "execution_count": 3,
   "metadata": {},
   "outputs": [
    {
     "name": "stdout",
     "output_type": "stream",
     "text": [
      "<Response [200]>\n"
     ]
    }
   ],
   "source": [
    "url = 'https://www.pararius.com/apartments/almere'\n",
    "\n",
    "page = requests.get(url)\n",
    "soup = BeautifulSoup(page.content, 'html.parser')"
   ]
  },
  {
   "cell_type": "markdown",
   "metadata": {},
   "source": [
    "Selecionando as features e armazenando no formato csv"
   ]
  },
  {
   "cell_type": "code",
   "execution_count": 5,
   "metadata": {},
   "outputs": [],
   "source": [
    "#encontrando todas as sessões (que armazenam as informações relevantes)\n",
    "# com as classes informadas\n",
    "lists = soup.find_all('section', class_='listing-search-item')\n",
    "\n",
    "#selecionando itens de lists e criando uma tabela no formato csv\n",
    "\n",
    "with open('housing.csv', 'w', encoding='utf8', newline='') as f:\n",
    "    thewriter = writer(f)\n",
    "    header = ['Title', 'Location', 'Price', 'Area', 'Rooms']\n",
    "    thewriter.writerow(header)\n",
    "\n",
    "    for i in lists:\n",
    "        title = i.find('a', class_='listing-search-item__link--title').text.replace('\\n', '')\n",
    "        sub = i.find('div', class_='listing-search-item__sub-title').text.replace('\\n', '')\n",
    "        price = i.find('div', class_='listing-search-item__price').text.replace('\\n', '')\n",
    "        area = i.find('li', class_='illustrated-features__item--surface-area').text.replace('\\n', '')\n",
    "        rooms = i.find('li', class_='illustrated-features__item--number-of-rooms').text.replace('\\n', '')\n",
    "\n",
    "        info = [title, sub, price, area, rooms]\n",
    "        thewriter.writerow(info)"
   ]
  },
  {
   "cell_type": "markdown",
   "metadata": {},
   "source": [
    "Visualizando o dataset"
   ]
  },
  {
   "cell_type": "code",
   "execution_count": 41,
   "metadata": {},
   "outputs": [
    {
     "data": {
      "text/html": [
       "<div>\n",
       "<style scoped>\n",
       "    .dataframe tbody tr th:only-of-type {\n",
       "        vertical-align: middle;\n",
       "    }\n",
       "\n",
       "    .dataframe tbody tr th {\n",
       "        vertical-align: top;\n",
       "    }\n",
       "\n",
       "    .dataframe thead th {\n",
       "        text-align: right;\n",
       "    }\n",
       "</style>\n",
       "<table border=\"1\" class=\"dataframe\">\n",
       "  <thead>\n",
       "    <tr style=\"text-align: right;\">\n",
       "      <th></th>\n",
       "      <th>Title</th>\n",
       "      <th>Location</th>\n",
       "      <th>Price</th>\n",
       "      <th>Area</th>\n",
       "      <th>Rooms</th>\n",
       "    </tr>\n",
       "  </thead>\n",
       "  <tbody>\n",
       "    <tr>\n",
       "      <th>0</th>\n",
       "      <td>House Leonard Bernstei...</td>\n",
       "      <td>1311 LN Almere (Muziekwijk noord) ...</td>\n",
       "      <td>€1,750 per month</td>\n",
       "      <td>97 m²</td>\n",
       "      <td>4 rooms</td>\n",
       "    </tr>\n",
       "    <tr>\n",
       "      <th>1</th>\n",
       "      <td>House Hennahof        ...</td>\n",
       "      <td>1339 EC Almere (Regenboogbuurt)   ...</td>\n",
       "      <td>€1,595 per month</td>\n",
       "      <td>118 m²</td>\n",
       "      <td>4 rooms</td>\n",
       "    </tr>\n",
       "    <tr>\n",
       "      <th>2</th>\n",
       "      <td>House Jan Campertstraa...</td>\n",
       "      <td>1321 RL Almere (Literatuurwijk)   ...</td>\n",
       "      <td>€1,495 per month</td>\n",
       "      <td>110 m²</td>\n",
       "      <td>3 rooms</td>\n",
       "    </tr>\n",
       "    <tr>\n",
       "      <th>3</th>\n",
       "      <td>House Purcellstraat   ...</td>\n",
       "      <td>1323 MD Almere (Muziekwijk zuid)  ...</td>\n",
       "      <td>€1,800 per month</td>\n",
       "      <td>98 m²</td>\n",
       "      <td>4 rooms</td>\n",
       "    </tr>\n",
       "    <tr>\n",
       "      <th>4</th>\n",
       "      <td>Apartment Louis Davids...</td>\n",
       "      <td>1311 LW Almere (Muziekwijk noord) ...</td>\n",
       "      <td>€1,400 per month</td>\n",
       "      <td>88 m²</td>\n",
       "      <td>3 rooms</td>\n",
       "    </tr>\n",
       "  </tbody>\n",
       "</table>\n",
       "</div>"
      ],
      "text/plain": [
       "                                               Title  \\\n",
       "0                          House Leonard Bernstei...   \n",
       "1                          House Hennahof        ...   \n",
       "2                          House Jan Campertstraa...   \n",
       "3                          House Purcellstraat   ...   \n",
       "4                          Apartment Louis Davids...   \n",
       "\n",
       "                                            Location  \\\n",
       "0              1311 LN Almere (Muziekwijk noord) ...   \n",
       "1              1339 EC Almere (Regenboogbuurt)   ...   \n",
       "2              1321 RL Almere (Literatuurwijk)   ...   \n",
       "3              1323 MD Almere (Muziekwijk zuid)  ...   \n",
       "4              1311 LW Almere (Muziekwijk noord) ...   \n",
       "\n",
       "                                          Price    Area    Rooms  \n",
       "0                  €1,750 per month               97 m²  4 rooms  \n",
       "1                  €1,595 per month              118 m²  4 rooms  \n",
       "2                  €1,495 per month              110 m²  3 rooms  \n",
       "3                  €1,800 per month               98 m²  4 rooms  \n",
       "4                  €1,400 per month               88 m²  3 rooms  "
      ]
     },
     "execution_count": 41,
     "metadata": {},
     "output_type": "execute_result"
    }
   ],
   "source": [
    "import pandas as pd\n",
    "\n",
    "housing = pd.read_csv('housing.csv')\n",
    "\n",
    "housing.head()"
   ]
  },
  {
   "cell_type": "markdown",
   "metadata": {},
   "source": [
    "Preparando o dataset"
   ]
  },
  {
   "cell_type": "code",
   "execution_count": 43,
   "metadata": {},
   "outputs": [
    {
     "data": {
      "text/html": [
       "<div>\n",
       "<style scoped>\n",
       "    .dataframe tbody tr th:only-of-type {\n",
       "        vertical-align: middle;\n",
       "    }\n",
       "\n",
       "    .dataframe tbody tr th {\n",
       "        vertical-align: top;\n",
       "    }\n",
       "\n",
       "    .dataframe thead th {\n",
       "        text-align: right;\n",
       "    }\n",
       "</style>\n",
       "<table border=\"1\" class=\"dataframe\">\n",
       "  <thead>\n",
       "    <tr style=\"text-align: right;\">\n",
       "      <th></th>\n",
       "      <th>Title</th>\n",
       "      <th>Location</th>\n",
       "      <th>Price</th>\n",
       "      <th>Area</th>\n",
       "      <th>Rooms</th>\n",
       "    </tr>\n",
       "  </thead>\n",
       "  <tbody>\n",
       "    <tr>\n",
       "      <th>0</th>\n",
       "      <td>House Leonard Bernstei...</td>\n",
       "      <td>1311 LN Almere (Muziekwijk noord) ...</td>\n",
       "      <td>1,750</td>\n",
       "      <td>97</td>\n",
       "      <td>4</td>\n",
       "    </tr>\n",
       "    <tr>\n",
       "      <th>1</th>\n",
       "      <td>House Hennahof        ...</td>\n",
       "      <td>1339 EC Almere (Regenboogbuurt)   ...</td>\n",
       "      <td>1,595</td>\n",
       "      <td>118</td>\n",
       "      <td>4</td>\n",
       "    </tr>\n",
       "    <tr>\n",
       "      <th>2</th>\n",
       "      <td>House Jan Campertstraa...</td>\n",
       "      <td>1321 RL Almere (Literatuurwijk)   ...</td>\n",
       "      <td>1,495</td>\n",
       "      <td>110</td>\n",
       "      <td>3</td>\n",
       "    </tr>\n",
       "    <tr>\n",
       "      <th>3</th>\n",
       "      <td>House Purcellstraat   ...</td>\n",
       "      <td>1323 MD Almere (Muziekwijk zuid)  ...</td>\n",
       "      <td>1,800</td>\n",
       "      <td>98</td>\n",
       "      <td>4</td>\n",
       "    </tr>\n",
       "    <tr>\n",
       "      <th>4</th>\n",
       "      <td>Apartment Louis Davids...</td>\n",
       "      <td>1311 LW Almere (Muziekwijk noord) ...</td>\n",
       "      <td>1,400</td>\n",
       "      <td>88</td>\n",
       "      <td>3</td>\n",
       "    </tr>\n",
       "  </tbody>\n",
       "</table>\n",
       "</div>"
      ],
      "text/plain": [
       "                                               Title  \\\n",
       "0                          House Leonard Bernstei...   \n",
       "1                          House Hennahof        ...   \n",
       "2                          House Jan Campertstraa...   \n",
       "3                          House Purcellstraat   ...   \n",
       "4                          Apartment Louis Davids...   \n",
       "\n",
       "                                            Location  Price  Area  Rooms  \n",
       "0              1311 LN Almere (Muziekwijk noord) ...  1,750    97      4  \n",
       "1              1339 EC Almere (Regenboogbuurt)   ...  1,595   118      4  \n",
       "2              1321 RL Almere (Literatuurwijk)   ...  1,495   110      3  \n",
       "3              1323 MD Almere (Muziekwijk zuid)  ...  1,800    98      4  \n",
       "4              1311 LW Almere (Muziekwijk noord) ...  1,400    88      3  "
      ]
     },
     "execution_count": 43,
     "metadata": {},
     "output_type": "execute_result"
    }
   ],
   "source": [
    "housing['Price'] = housing['Price'].str.replace('€', '').str.strip()\n",
    "housing['Price'] = housing['Price'].str.replace('per month', '').str.strip()\n",
    "housing['Area'] = housing['Area'].str.replace('m²', '').str.strip().astype(int)\n",
    "housing['Rooms'] = housing['Rooms'].str.replace('rooms', '').str.strip()\n",
    "housing['Rooms'] = housing['Rooms'].str.replace('room', '').astype(int)\n",
    "\n",
    "housing.head()\n"
   ]
  }
 ],
 "metadata": {
  "kernelspec": {
   "display_name": "Python 3.10.4 64-bit",
   "language": "python",
   "name": "python3"
  },
  "language_info": {
   "codemirror_mode": {
    "name": "ipython",
    "version": 3
   },
   "file_extension": ".py",
   "mimetype": "text/x-python",
   "name": "python",
   "nbconvert_exporter": "python",
   "pygments_lexer": "ipython3",
   "version": "3.10.4"
  },
  "orig_nbformat": 4,
  "vscode": {
   "interpreter": {
    "hash": "fb071969cc081d156db4658a52cc12ff3302089485c0c8cb524fcf02c6362775"
   }
  }
 },
 "nbformat": 4,
 "nbformat_minor": 2
}
