{
 "cells": [
  {
   "cell_type": "code",
   "execution_count": 1,
   "metadata": {},
   "outputs": [
    {
     "name": "stdout",
     "output_type": "stream",
     "text": [
      "   ID                      Name Sex   Age  Height  Weight            Team  \\\n",
      "0   1                 A Dijiang   M  24.0   180.0    80.0           China   \n",
      "1   2                  A Lamusi   M  23.0   170.0    60.0           China   \n",
      "2   3       Gunnar Nielsen Aaby   M  24.0     NaN     NaN         Denmark   \n",
      "3   4      Edgar Lindenau Aabye   M  34.0     NaN     NaN  Denmark/Sweden   \n",
      "4   5  Christine Jacoba Aaftink   F  21.0   185.0    82.0     Netherlands   \n",
      "\n",
      "   NOC        Games  Year  Season       City          Sport  \\\n",
      "0  CHN  1992 Summer  1992  Summer  Barcelona     Basketball   \n",
      "1  CHN  2012 Summer  2012  Summer     London           Judo   \n",
      "2  DEN  1920 Summer  1920  Summer  Antwerpen       Football   \n",
      "3  DEN  1900 Summer  1900  Summer      Paris     Tug-Of-War   \n",
      "4  NED  1988 Winter  1988  Winter    Calgary  Speed Skating   \n",
      "\n",
      "                              Event Medal  \n",
      "0       Basketball Men's Basketball   NaN  \n",
      "1      Judo Men's Extra-Lightweight   NaN  \n",
      "2           Football Men's Football   NaN  \n",
      "3       Tug-Of-War Men's Tug-Of-War  Gold  \n",
      "4  Speed Skating Women's 500 metres   NaN  \n"
     ]
    }
   ],
   "source": [
    "# A seguir vamos utilizar métodos de análise exploratória em um dataset referente as olimpíadas\n",
    "#fornecido pelo kaggle\n",
    "# https://www.kaggle.com/datasets/heesoo37/120-years-of-olympic-history-athletes-and-results\n",
    "\n",
    "import pandas as pd\n",
    "import matplotlib.pyplot as plt\n",
    "\n",
    "#tabela com dados das olimpíadas\n",
    "dados = pd.read_csv(r'D:\\Python\\dataset\\athlete_events.csv')\n",
    "\n",
    "print(dados.head())"
   ]
  },
  {
   "cell_type": "code",
   "execution_count": 2,
   "metadata": {},
   "outputs": [
    {
     "data": {
      "text/plain": [
       "(271116, 15)"
      ]
     },
     "execution_count": 2,
     "metadata": {},
     "output_type": "execute_result"
    }
   ],
   "source": [
    "# verificamos número de linhas e colunas\n",
    "\n",
    "dados.shape"
   ]
  },
  {
   "cell_type": "code",
   "execution_count": 3,
   "metadata": {},
   "outputs": [
    {
     "name": "stdout",
     "output_type": "stream",
     "text": [
      "<class 'pandas.core.frame.DataFrame'>\n",
      "RangeIndex: 271116 entries, 0 to 271115\n",
      "Data columns (total 15 columns):\n",
      " #   Column  Non-Null Count   Dtype  \n",
      "---  ------  --------------   -----  \n",
      " 0   ID      271116 non-null  int64  \n",
      " 1   Name    271116 non-null  object \n",
      " 2   Sex     271116 non-null  object \n",
      " 3   Age     261642 non-null  float64\n",
      " 4   Height  210945 non-null  float64\n",
      " 5   Weight  208241 non-null  float64\n",
      " 6   Team    271116 non-null  object \n",
      " 7   NOC     271116 non-null  object \n",
      " 8   Games   271116 non-null  object \n",
      " 9   Year    271116 non-null  int64  \n",
      " 10  Season  271116 non-null  object \n",
      " 11  City    271116 non-null  object \n",
      " 12  Sport   271116 non-null  object \n",
      " 13  Event   271116 non-null  object \n",
      " 14  Medal   39783 non-null   object \n",
      "dtypes: float64(3), int64(2), object(10)\n",
      "memory usage: 31.0+ MB\n"
     ]
    }
   ],
   "source": [
    "# verificando os tipos dos dados armazenados e o número de dados não-nulos\n",
    "\n",
    "dados.info()"
   ]
  },
  {
   "cell_type": "code",
   "execution_count": 4,
   "metadata": {},
   "outputs": [
    {
     "name": "stdout",
     "output_type": "stream",
     "text": [
      "            ID   Age  Height  Weight  Year\n",
      "0            1  24.0   180.0    80.0  1992\n",
      "1            2  23.0   170.0    60.0  2012\n",
      "2            3  24.0     NaN     NaN  1920\n",
      "3            4  34.0     NaN     NaN  1900\n",
      "4            5  21.0   185.0    82.0  1988\n",
      "...        ...   ...     ...     ...   ...\n",
      "271111  135569  29.0   179.0    89.0  1976\n",
      "271112  135570  27.0   176.0    59.0  2014\n",
      "271113  135570  27.0   176.0    59.0  2014\n",
      "271114  135571  30.0   185.0    96.0  1998\n",
      "271115  135571  34.0   185.0    96.0  2002\n",
      "\n",
      "[271116 rows x 5 columns]\n"
     ]
    },
    {
     "data": {
      "text/html": [
       "<div>\n",
       "<style scoped>\n",
       "    .dataframe tbody tr th:only-of-type {\n",
       "        vertical-align: middle;\n",
       "    }\n",
       "\n",
       "    .dataframe tbody tr th {\n",
       "        vertical-align: top;\n",
       "    }\n",
       "\n",
       "    .dataframe thead th {\n",
       "        text-align: right;\n",
       "    }\n",
       "</style>\n",
       "<table border=\"1\" class=\"dataframe\">\n",
       "  <thead>\n",
       "    <tr style=\"text-align: right;\">\n",
       "      <th></th>\n",
       "      <th>Age</th>\n",
       "      <th>Height</th>\n",
       "      <th>Weight</th>\n",
       "    </tr>\n",
       "  </thead>\n",
       "  <tbody>\n",
       "    <tr>\n",
       "      <th>count</th>\n",
       "      <td>261642.000000</td>\n",
       "      <td>210945.000000</td>\n",
       "      <td>208241.000000</td>\n",
       "    </tr>\n",
       "    <tr>\n",
       "      <th>mean</th>\n",
       "      <td>25.556898</td>\n",
       "      <td>175.338970</td>\n",
       "      <td>70.702393</td>\n",
       "    </tr>\n",
       "    <tr>\n",
       "      <th>std</th>\n",
       "      <td>6.393561</td>\n",
       "      <td>10.518462</td>\n",
       "      <td>14.348020</td>\n",
       "    </tr>\n",
       "    <tr>\n",
       "      <th>min</th>\n",
       "      <td>10.000000</td>\n",
       "      <td>127.000000</td>\n",
       "      <td>25.000000</td>\n",
       "    </tr>\n",
       "    <tr>\n",
       "      <th>25%</th>\n",
       "      <td>21.000000</td>\n",
       "      <td>168.000000</td>\n",
       "      <td>60.000000</td>\n",
       "    </tr>\n",
       "    <tr>\n",
       "      <th>50%</th>\n",
       "      <td>24.000000</td>\n",
       "      <td>175.000000</td>\n",
       "      <td>70.000000</td>\n",
       "    </tr>\n",
       "    <tr>\n",
       "      <th>75%</th>\n",
       "      <td>28.000000</td>\n",
       "      <td>183.000000</td>\n",
       "      <td>79.000000</td>\n",
       "    </tr>\n",
       "    <tr>\n",
       "      <th>max</th>\n",
       "      <td>97.000000</td>\n",
       "      <td>226.000000</td>\n",
       "      <td>214.000000</td>\n",
       "    </tr>\n",
       "  </tbody>\n",
       "</table>\n",
       "</div>"
      ],
      "text/plain": [
       "                 Age         Height         Weight\n",
       "count  261642.000000  210945.000000  208241.000000\n",
       "mean       25.556898     175.338970      70.702393\n",
       "std         6.393561      10.518462      14.348020\n",
       "min        10.000000     127.000000      25.000000\n",
       "25%        21.000000     168.000000      60.000000\n",
       "50%        24.000000     175.000000      70.000000\n",
       "75%        28.000000     183.000000      79.000000\n",
       "max        97.000000     226.000000     214.000000"
      ]
     },
     "execution_count": 4,
     "metadata": {},
     "output_type": "execute_result"
    }
   ],
   "source": [
    "# selecionando apenas variáveis com dados numéricos\n",
    "\n",
    "dados_num = dados.select_dtypes(['int64', 'float64'])\n",
    "print(dados_num)\n",
    "\n",
    "# Com dados numéricos podemos obter média, valor máximo e mínimo, desvio etc...\n",
    "\n",
    "dados_num.drop(['ID', 'Year'], axis=1).describe() #abandonando *temporariamente* as colunas ID e Year"
   ]
  },
  {
   "cell_type": "code",
   "execution_count": 5,
   "metadata": {},
   "outputs": [
    {
     "name": "stdout",
     "output_type": "stream",
     "text": [
      "0         24.691358\n",
      "1         20.761246\n",
      "2               NaN\n",
      "3               NaN\n",
      "4         23.959094\n",
      "            ...    \n",
      "271111    27.776911\n",
      "271112    19.047004\n",
      "271113    19.047004\n",
      "271114    28.049671\n",
      "271115    28.049671\n",
      "Name: IMC, Length: 271116, dtype: float64\n"
     ]
    },
    {
     "data": {
      "image/png": "[encoded data removed]",
      "text/plain": [
       "<Figure size 432x288 with 1 Axes>"
      ]
     },
     "metadata": {
      "needs_background": "light"
     },
     "output_type": "display_data"
    }
   ],
   "source": [
    "# Criando uma nova coluna contendo o IMC dos participantes\n",
    "# IMC é definido como sendo a razão entra a massa e a altura ao quadrado\n",
    "#no sistema internacional de unidades\n",
    "\n",
    "dados_num['IMC'] = dados_num['Weight']/(dados_num['Height']/100)**2\n",
    "print(dados_num['IMC'])\n",
    "\n",
    "# Criando um histograma para uma melhor visualização da distribuição de valores\n",
    "\n",
    "plt.hist(dados_num['IMC'], 50)\n",
    "plt.show()"
   ]
  },
  {
   "cell_type": "code",
   "execution_count": 6,
   "metadata": {},
   "outputs": [
    {
     "name": "stdout",
     "output_type": "stream",
     "text": [
      "Porcentagem de atletas com IMC eutrofia: 79.51153717857609\n"
     ]
    }
   ],
   "source": [
    "# Número de atletas registrados com IMC classíficado como eutrofia (estado nutricional adequado):\n",
    "\n",
    "eutrofia = (dados_num['IMC'].loc[(dados_num['IMC']< 25) & (dados_num['IMC']>18.5)].value_counts().sum())/(dados_num['IMC'].value_counts().sum())*100\n",
    "print(f'Porcentagem de atletas com IMC eutrofia: {eutrofia}')"
   ]
  },
  {
   "cell_type": "code",
   "execution_count": 7,
   "metadata": {},
   "outputs": [
    {
     "data": {
      "text/plain": [
       "0         231333\n",
       "Gold       13372\n",
       "Bronze     13295\n",
       "Silver     13116\n",
       "Name: Medal, dtype: int64"
      ]
     },
     "execution_count": 7,
     "metadata": {},
     "output_type": "execute_result"
    }
   ],
   "source": [
    "# Substituindo os valores faltantes por 0 (assumindo que os valores faltantes correspondem a não medalhistas)\n",
    "\n",
    "dados['Medal'].fillna(0, inplace=True)\n",
    "\n",
    "# Visualizando o número de medalhas de bronza, prata e ouro documentadas\n",
    "\n",
    "dados['Medal'].value_counts()"
   ]
  },
  {
   "cell_type": "code",
   "execution_count": 8,
   "metadata": {},
   "outputs": [
    {
     "name": "stdout",
     "output_type": "stream",
     "text": [
      " 72.5% das medalhas documentadas são de atletas masculinos\n"
     ]
    }
   ],
   "source": [
    "# Separando o dados referentes a atletas masculinos e femininos\n",
    "\n",
    "dadosM = dados.loc[dados['Sex']=='M']\n",
    "dadosF = dados.loc[dados['Sex']=='F']\n",
    "\n",
    "# Porcentagem de medalhas recebidas por atletas masculinos e femininos\n",
    "\n",
    "medalM = dadosM['Medal'].value_counts().sum()/(dados['Medal'].value_counts().sum())*100\n",
    "medalF = dadosF['Medal'].value_counts().sum()/(dados['Medal'].value_counts().sum())*100\n",
    "print(f' {medalM.round(1)}% das medalhas documentadas são de atletas masculinos')"
   ]
  },
  {
   "cell_type": "code",
   "execution_count": 9,
   "metadata": {},
   "outputs": [
    {
     "data": {
      "image/png": "[encoded data removed]",
      "text/plain": [
       "<Figure size 432x288 with 1 Axes>"
      ]
     },
     "metadata": {
      "needs_background": "light"
     },
     "output_type": "display_data"
    },
    {
     "name": "stdout",
     "output_type": "stream",
     "text": [
      "Informações do atleta:\n",
      "           ID                Name Sex   Age  Height  Weight  \\\n",
      "142882  71691  Dimitrios Loundras   M  10.0     NaN     NaN   \n",
      "\n",
      "                                 Team  NOC        Games  Year  Season    City  \\\n",
      "142882  Ethnikos Gymnastikos Syllogos  GRE  1896 Summer  1896  Summer  Athina   \n",
      "\n",
      "             Sport                                  Event   Medal  \n",
      "142882  Gymnastics  Gymnastics Men's Parallel Bars, Teams  Bronze  \n"
     ]
    }
   ],
   "source": [
    "# Explorando os dados com base na idade dos participantes\n",
    "\n",
    "plt.hist(dados['Age'], 40)\n",
    "plt.show()\n"
   ]
  },
  {
   "cell_type": "code",
   "execution_count": 13,
   "metadata": {},
   "outputs": [
    {
     "name": "stdout",
     "output_type": "stream",
     "text": [
      "Informações referêntes ao atleta de 10 anos:\n",
      "           ID                Name Sex   Age  Height  Weight  \\\n",
      "142882  71691  Dimitrios Loundras   M  10.0     NaN     NaN   \n",
      "\n",
      "                                 Team  NOC        Games  Year  Season    City  \\\n",
      "142882  Ethnikos Gymnastikos Syllogos  GRE  1896 Summer  1896  Summer  Athina   \n",
      "\n",
      "             Sport                                  Event   Medal  \n",
      "142882  Gymnastics  Gymnastics Men's Parallel Bars, Teams  Bronze  \n",
      "\n",
      "\n",
      "Informações referêntes ao atleta de 97 anos:\n",
      "            ID                    Name Sex   Age  Height  Weight  \\\n",
      "257054  128719  John Quincy Adams Ward   M  97.0     NaN     NaN   \n",
      "\n",
      "                 Team  NOC        Games  Year  Season       City  \\\n",
      "257054  United States  USA  1928 Summer  1928  Summer  Amsterdam   \n",
      "\n",
      "                   Sport                                        Event Medal  \n",
      "257054  Art Competitions  Art Competitions Mixed Sculpturing, Statues     0  \n"
     ]
    }
   ],
   "source": [
    "# Utilizando o método .describe() anteriormente, podemos notar que o participante com idade\n",
    "#mínima registrado tem 10 anos e com idade máxima tem 97.\n",
    "# Explorando os dados referentes a este participante\n",
    "\n",
    "print('Informações referêntes ao atleta de 10 anos:')\n",
    "print(dados.loc[dados['Age']==10])\n",
    "print()\n",
    "print()\n",
    "\n",
    "print('Informações referêntes ao atleta de 97 anos:')\n",
    "print(dados.loc[dados['Age']==97])"
   ]
  }
 ],
 "metadata": {
  "kernelspec": {
   "display_name": "Python 3.10.4 64-bit",
   "language": "python",
   "name": "python3"
  },
  "language_info": {
   "codemirror_mode": {
    "name": "ipython",
    "version": 3
   },
   "file_extension": ".py",
   "mimetype": "text/x-python",
   "name": "python",
   "nbconvert_exporter": "python",
   "pygments_lexer": "ipython3",
   "version": "3.10.4"
  },
  "orig_nbformat": 4,
  "vscode": {
   "interpreter": {
    "hash": "fb071969cc081d156db4658a52cc12ff3302089485c0c8cb524fcf02c6362775"
   }
  }
 },
 "nbformat": 4,
 "nbformat_minor": 2
}
